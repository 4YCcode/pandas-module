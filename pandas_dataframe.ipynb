{
 "cells": [
  {
   "cell_type": "code",
   "execution_count": 2,
   "metadata": {},
   "outputs": [],
   "source": [
    "import pandas as pd"
   ]
  },
  {
   "cell_type": "code",
   "execution_count": 3,
   "metadata": {},
   "outputs": [
    {
     "name": "stdout",
     "output_type": "stream",
     "text": [
      "    name  salary\n",
      "1  ferry   30000\n",
      "2    kai   45000\n",
      "3  kelly   73000\n"
     ]
    }
   ],
   "source": [
    "data=pd.DataFrame({\n",
    "    \"name\":[\"ferry\",\"kai\",\"kelly\"],\n",
    "    \"salary\":[30000,45000,73000]\n",
    "},index=[\"1\",\"2\",\"3\"])\n",
    "print(data)"
   ]
  },
  {
   "attachments": {},
   "cell_type": "markdown",
   "metadata": {},
   "source": [
    "資料索引:DataFrame(字典)(index=索引列表)"
   ]
  },
  {
   "cell_type": "code",
   "execution_count": 4,
   "metadata": {},
   "outputs": [
    {
     "name": "stdout",
     "output_type": "stream",
     "text": [
      "資料數量 6\n",
      "資料形狀(列,欄) (3, 2)\n",
      "資料索引 Index(['1', '2', '3'], dtype='object')\n"
     ]
    }
   ],
   "source": [
    "print(\"資料數量\",data.size)\n",
    "print(\"資料形狀(列,欄)\",data.shape)\n",
    "print(\"資料索引\",data.index)"
   ]
  },
  {
   "attachments": {},
   "cell_type": "markdown",
   "metadata": {},
   "source": [
    "資料觀察"
   ]
  },
  {
   "cell_type": "code",
   "execution_count": 5,
   "metadata": {},
   "outputs": [
    {
     "name": "stdout",
     "output_type": "stream",
     "text": [
      "取得第二列\n",
      "name        kai\n",
      "salary    45000\n",
      "Name: 2, dtype: object\n",
      "==========\n",
      "取得第3列\n",
      "name      kelly\n",
      "salary    73000\n",
      "Name: 3, dtype: object\n"
     ]
    }
   ],
   "source": [
    "print(\"取得第二列\",data.iloc[1],sep=\"\\n\")\n",
    "print(\"==========\")\n",
    "print(\"取得第3列\",data.loc[\"3\"],sep=\"\\n\")"
   ]
  },
  {
   "attachments": {},
   "cell_type": "markdown",
   "metadata": {},
   "source": [
    "取得列(Row/橫向)的Series資料:根據索引(iloc),根據順序(loc)"
   ]
  },
  {
   "cell_type": "code",
   "execution_count": 6,
   "metadata": {},
   "outputs": [
    {
     "name": "stdout",
     "output_type": "stream",
     "text": [
      "取得name資料\n",
      "1    ferry\n",
      "2      kai\n",
      "3    kelly\n",
      "Name: name, dtype: object\n",
      "將名字全部改為大寫\n",
      "1    FERRY\n",
      "2      KAI\n",
      "3    KELLY\n",
      "Name: name, dtype: object\n"
     ]
    }
   ],
   "source": [
    "print(\"取得name資料\",data[\"name\"],sep=\"\\n\")\n",
    "names=data[\"name\"]\n",
    "print(\"將名字全部改為大寫\",names.str.upper(),sep=\"\\n\")"
   ]
  },
  {
   "attachments": {},
   "cell_type": "markdown",
   "metadata": {},
   "source": [
    "取得欄(Column/直向)的Series資料"
   ]
  },
  {
   "cell_type": "code",
   "execution_count": 10,
   "metadata": {},
   "outputs": [
    {
     "name": "stdout",
     "output_type": "stream",
     "text": [
      "三人薪水平均值 45000\n"
     ]
    }
   ],
   "source": [
    "salaries=data[\"salary\"]\n",
    "print(\"三人薪水平均值\",int(salaries.median()))"
   ]
  },
  {
   "attachments": {},
   "cell_type": "markdown",
   "metadata": {},
   "source": [
    "計算薪水平均值"
   ]
  },
  {
   "cell_type": "code",
   "execution_count": 11,
   "metadata": {},
   "outputs": [
    {
     "name": "stdout",
     "output_type": "stream",
     "text": [
      "    name  salary  bonus  rank        cp\n",
      "1  ferry   30000  10000     3  0.333333\n",
      "2    kai   45000   3000     1  0.066667\n",
      "3  kelly   73000   6666     6  0.091315\n"
     ]
    }
   ],
   "source": [
    "data[\"bonus\"]=[10000,3000,6666] #data新蘭為列表\n",
    "data[\"rank\"]=pd.Series([3,6,1],index=[\"1\",\"3\",\"2\"]) #依照索引名稱填入新增的欄位\n",
    "data[\"cp\"]=data[\"bonus\"]/data[\"salary\"] #用原本欄位計算 成立新的欄位\n",
    "print(data)"
   ]
  },
  {
   "attachments": {},
   "cell_type": "markdown",
   "metadata": {},
   "source": [
    "建立新欄位名稱"
   ]
  }
 ],
 "metadata": {
  "kernelspec": {
   "display_name": "Python 3",
   "language": "python",
   "name": "python3"
  },
  "language_info": {
   "codemirror_mode": {
    "name": "ipython",
    "version": 3
   },
   "file_extension": ".py",
   "mimetype": "text/x-python",
   "name": "python",
   "nbconvert_exporter": "python",
   "pygments_lexer": "ipython3",
   "version": "3.10.6"
  },
  "orig_nbformat": 4
 },
 "nbformat": 4,
 "nbformat_minor": 2
}
