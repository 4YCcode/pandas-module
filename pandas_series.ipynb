{
 "cells": [
  {
   "cell_type": "code",
   "execution_count": 2,
   "metadata": {},
   "outputs": [],
   "source": [
    "import pandas as pd"
   ]
  },
  {
   "attachments": {},
   "cell_type": "markdown",
   "metadata": {},
   "source": [
    "pandas模組練習"
   ]
  },
  {
   "cell_type": "code",
   "execution_count": 3,
   "metadata": {},
   "outputs": [
    {
     "name": "stdout",
     "output_type": "stream",
     "text": [
      "0    69\n",
      "1    49\n",
      "2    38\n",
      "dtype: int64\n",
      "max 69\n"
     ]
    }
   ],
   "source": [
    "data=pd.Series([69,49,38])\n",
    "print(data)\n",
    "print(\"max\",data.max())"
   ]
  },
  {
   "attachments": {},
   "cell_type": "markdown",
   "metadata": {},
   "source": [
    "建立series操作"
   ]
  },
  {
   "cell_type": "code",
   "execution_count": 4,
   "metadata": {},
   "outputs": [
    {
     "name": "stdout",
     "output_type": "stream",
     "text": [
      "a     4\n",
      "b    78\n",
      "c    35\n",
      "d    98\n",
      "e    26\n",
      "dtype: int64\n"
     ]
    }
   ],
   "source": [
    "data=pd.Series([4,78,35,98,26],index=[\"a\",\"b\",\"c\",\"d\",\"e\"])\n",
    "print(data)"
   ]
  },
  {
   "attachments": {},
   "cell_type": "markdown",
   "metadata": {},
   "source": [
    "建立series操作，可自行命名index名稱"
   ]
  },
  {
   "cell_type": "code",
   "execution_count": 5,
   "metadata": {},
   "outputs": [
    {
     "name": "stdout",
     "output_type": "stream",
     "text": [
      "資料型態 int64\n",
      "資料數量 5\n",
      "資料索引 Index(['a', 'b', 'c', 'd', 'e'], dtype='object')\n"
     ]
    }
   ],
   "source": [
    "print(\"資料型態\",data.dtype)\n",
    "print(\"資料數量\",data.size)\n",
    "print(\"資料索引\",data.index)"
   ]
  },
  {
   "attachments": {},
   "cell_type": "markdown",
   "metadata": {},
   "source": [
    "觀察資料"
   ]
  },
  {
   "cell_type": "code",
   "execution_count": 6,
   "metadata": {},
   "outputs": [
    {
     "name": "stdout",
     "output_type": "stream",
     "text": [
      "35\n",
      "78\n"
     ]
    }
   ],
   "source": [
    "print(data[2])#順序\n",
    "print(data[\"b\"]) #索引"
   ]
  },
  {
   "attachments": {},
   "cell_type": "markdown",
   "metadata": {},
   "source": [
    "取得資料:根據順序.索引取得資料"
   ]
  },
  {
   "cell_type": "code",
   "execution_count": 7,
   "metadata": {},
   "outputs": [
    {
     "name": "stdout",
     "output_type": "stream",
     "text": [
      "最大值 98\n",
      "總和 241\n",
      "標準差 38.69366873275265\n",
      "中位數 35.0\n",
      "最小三個數 a     4\n",
      "e    26\n",
      "c    35\n",
      "dtype: int64\n"
     ]
    }
   ],
   "source": [
    "print(\"最大值\",data.max())\n",
    "print(\"總和\",data.sum())\n",
    "print(\"標準差\",data.std())\n",
    "print(\"中位數\",data.median())\n",
    "print(\"最小三個數\",data.nsmallest(3))"
   ]
  },
  {
   "attachments": {},
   "cell_type": "markdown",
   "metadata": {},
   "source": [
    "數字運算"
   ]
  },
  {
   "cell_type": "code",
   "execution_count": null,
   "metadata": {},
   "outputs": [],
   "source": [
    "data=pd.Series([\"你好\",\"Python\",\"pandas\"])\n",
    "\n",
    "print(data.str.lower())#字母小寫\n",
    "print(data.str.upper())#字母大寫\n",
    "print(data.str.len()) #每個字串長度\n",
    "print(data.str.cat(sep=\"-\")) #-可替換為,\n",
    "print(data.str.contains(\"p\")) #用布林值判斷是否包含\n",
    "print(data.str.replace(\"你好\",\"Hi\")) #取代"
   ]
  },
  {
   "attachments": {},
   "cell_type": "markdown",
   "metadata": {},
   "source": [
    "字串運算"
   ]
  }
 ],
 "metadata": {
  "kernelspec": {
   "display_name": "Python 3",
   "language": "python",
   "name": "python3"
  },
  "language_info": {
   "codemirror_mode": {
    "name": "ipython",
    "version": 3
   },
   "file_extension": ".py",
   "mimetype": "text/x-python",
   "name": "python",
   "nbconvert_exporter": "python",
   "pygments_lexer": "ipython3",
   "version": "3.10.6"
  },
  "orig_nbformat": 4
 },
 "nbformat": 4,
 "nbformat_minor": 2
}
